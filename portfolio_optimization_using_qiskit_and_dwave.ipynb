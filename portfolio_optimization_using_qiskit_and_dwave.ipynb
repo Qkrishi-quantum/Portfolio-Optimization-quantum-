{
  "cells": [
    {
      "cell_type": "markdown",
      "metadata": {
        "collapsed": true,
        "id": "P_sFhdDM1Eah"
      },
      "source": [
        "# Portfolio Optimization\n",
        "\n"
      ]
    },
    {
      "cell_type": "code",
      "source": [
        "## download libraries\n",
        "!pip install qiskit[all]\n",
        "!pip install qiskit_aer\n",
        "!pip install qiskit_optimization\n",
        "!pip install qiskit_finance\n",
        "!pip install scipy"
      ],
      "metadata": {
        "colab": {
          "base_uri": "https://localhost:8080/"
        },
        "id": "xjnBzutN1qmf",
        "outputId": "882951e5-e3d4-4128-ebd3-fda6354a640b"
      },
      "execution_count": null,
      "outputs": [
        {
          "output_type": "stream",
          "name": "stdout",
          "text": [
            "Requirement already satisfied: qiskit[all] in /usr/local/lib/python3.10/dist-packages (0.45.2)\n",
            "Requirement already satisfied: qiskit-terra==0.45.2 in /usr/local/lib/python3.10/dist-packages (from qiskit[all]) (0.45.2)\n",
            "Requirement already satisfied: rustworkx>=0.13.0 in /usr/local/lib/python3.10/dist-packages (from qiskit-terra==0.45.2->qiskit[all]) (0.14.0)\n",
            "Requirement already satisfied: numpy<2,>=1.17 in /usr/local/lib/python3.10/dist-packages (from qiskit-terra==0.45.2->qiskit[all]) (1.23.5)\n",
            "Requirement already satisfied: ply>=3.10 in /usr/local/lib/python3.10/dist-packages (from qiskit-terra==0.45.2->qiskit[all]) (3.11)\n",
            "Requirement already satisfied: psutil>=5 in /usr/local/lib/python3.10/dist-packages (from qiskit-terra==0.45.2->qiskit[all]) (5.9.5)\n",
            "Requirement already satisfied: scipy>=1.5 in /usr/local/lib/python3.10/dist-packages (from qiskit-terra==0.45.2->qiskit[all]) (1.11.4)\n",
            "Requirement already satisfied: sympy>=1.3 in /usr/local/lib/python3.10/dist-packages (from qiskit-terra==0.45.2->qiskit[all]) (1.12)\n",
            "Requirement already satisfied: dill>=0.3 in /usr/local/lib/python3.10/dist-packages (from qiskit-terra==0.45.2->qiskit[all]) (0.3.7)\n",
            "Requirement already satisfied: python-dateutil>=2.8.0 in /usr/local/lib/python3.10/dist-packages (from qiskit-terra==0.45.2->qiskit[all]) (2.8.2)\n",
            "Requirement already satisfied: stevedore>=3.0.0 in /usr/local/lib/python3.10/dist-packages (from qiskit-terra==0.45.2->qiskit[all]) (5.1.0)\n",
            "Requirement already satisfied: symengine!=0.10.0,>=0.9 in /usr/local/lib/python3.10/dist-packages (from qiskit-terra==0.45.2->qiskit[all]) (0.11.0)\n",
            "Requirement already satisfied: typing-extensions in /usr/local/lib/python3.10/dist-packages (from qiskit-terra==0.45.2->qiskit[all]) (4.9.0)\n",
            "Requirement already satisfied: matplotlib>=3.3 in /usr/local/lib/python3.10/dist-packages (from qiskit-terra==0.45.2->qiskit[all]) (3.7.1)\n",
            "Requirement already satisfied: ipywidgets>=7.3.0 in /usr/local/lib/python3.10/dist-packages (from qiskit-terra==0.45.2->qiskit[all]) (7.7.1)\n",
            "Requirement already satisfied: pydot in /usr/local/lib/python3.10/dist-packages (from qiskit-terra==0.45.2->qiskit[all]) (1.4.2)\n",
            "Requirement already satisfied: pillow>=4.2.1 in /usr/local/lib/python3.10/dist-packages (from qiskit-terra==0.45.2->qiskit[all]) (9.4.0)\n",
            "Requirement already satisfied: pylatexenc>=1.4 in /usr/local/lib/python3.10/dist-packages (from qiskit-terra==0.45.2->qiskit[all]) (2.10)\n",
            "Requirement already satisfied: seaborn>=0.9.0 in /usr/local/lib/python3.10/dist-packages (from qiskit-terra==0.45.2->qiskit[all]) (0.13.1)\n",
            "Requirement already satisfied: pygments>=2.4 in /usr/local/lib/python3.10/dist-packages (from qiskit-terra==0.45.2->qiskit[all]) (2.16.1)\n",
            "Requirement already satisfied: z3-solver>=4.7 in /usr/local/lib/python3.10/dist-packages (from qiskit-terra==0.45.2->qiskit[all]) (4.12.5.0)\n",
            "Requirement already satisfied: python-constraint>=1.4 in /usr/local/lib/python3.10/dist-packages (from qiskit-terra==0.45.2->qiskit[all]) (1.4.0)\n",
            "Requirement already satisfied: qiskit-qasm3-import>=0.1.0 in /usr/local/lib/python3.10/dist-packages (from qiskit-terra==0.45.2->qiskit[all]) (0.4.1)\n",
            "Requirement already satisfied: ipykernel>=4.5.1 in /usr/local/lib/python3.10/dist-packages (from ipywidgets>=7.3.0->qiskit-terra==0.45.2->qiskit[all]) (5.5.6)\n",
            "Requirement already satisfied: ipython-genutils~=0.2.0 in /usr/local/lib/python3.10/dist-packages (from ipywidgets>=7.3.0->qiskit-terra==0.45.2->qiskit[all]) (0.2.0)\n",
            "Requirement already satisfied: traitlets>=4.3.1 in /usr/local/lib/python3.10/dist-packages (from ipywidgets>=7.3.0->qiskit-terra==0.45.2->qiskit[all]) (5.7.1)\n",
            "Requirement already satisfied: widgetsnbextension~=3.6.0 in /usr/local/lib/python3.10/dist-packages (from ipywidgets>=7.3.0->qiskit-terra==0.45.2->qiskit[all]) (3.6.6)\n",
            "Requirement already satisfied: ipython>=4.0.0 in /usr/local/lib/python3.10/dist-packages (from ipywidgets>=7.3.0->qiskit-terra==0.45.2->qiskit[all]) (7.34.0)\n",
            "Requirement already satisfied: jupyterlab-widgets>=1.0.0 in /usr/local/lib/python3.10/dist-packages (from ipywidgets>=7.3.0->qiskit-terra==0.45.2->qiskit[all]) (3.0.9)\n",
            "Requirement already satisfied: contourpy>=1.0.1 in /usr/local/lib/python3.10/dist-packages (from matplotlib>=3.3->qiskit-terra==0.45.2->qiskit[all]) (1.2.0)\n",
            "Requirement already satisfied: cycler>=0.10 in /usr/local/lib/python3.10/dist-packages (from matplotlib>=3.3->qiskit-terra==0.45.2->qiskit[all]) (0.12.1)\n",
            "Requirement already satisfied: fonttools>=4.22.0 in /usr/local/lib/python3.10/dist-packages (from matplotlib>=3.3->qiskit-terra==0.45.2->qiskit[all]) (4.47.2)\n",
            "Requirement already satisfied: kiwisolver>=1.0.1 in /usr/local/lib/python3.10/dist-packages (from matplotlib>=3.3->qiskit-terra==0.45.2->qiskit[all]) (1.4.5)\n",
            "Requirement already satisfied: packaging>=20.0 in /usr/local/lib/python3.10/dist-packages (from matplotlib>=3.3->qiskit-terra==0.45.2->qiskit[all]) (23.2)\n",
            "Requirement already satisfied: pyparsing>=2.3.1 in /usr/local/lib/python3.10/dist-packages (from matplotlib>=3.3->qiskit-terra==0.45.2->qiskit[all]) (3.1.1)\n",
            "Requirement already satisfied: six>=1.5 in /usr/local/lib/python3.10/dist-packages (from python-dateutil>=2.8.0->qiskit-terra==0.45.2->qiskit[all]) (1.16.0)\n",
            "Requirement already satisfied: openqasm3[parser]<0.6,>=0.4 in /usr/local/lib/python3.10/dist-packages (from qiskit-qasm3-import>=0.1.0->qiskit-terra==0.45.2->qiskit[all]) (0.5.0)\n",
            "Requirement already satisfied: pandas>=1.2 in /usr/local/lib/python3.10/dist-packages (from seaborn>=0.9.0->qiskit-terra==0.45.2->qiskit[all]) (1.5.3)\n",
            "Requirement already satisfied: pbr!=2.1.0,>=2.0.0 in /usr/local/lib/python3.10/dist-packages (from stevedore>=3.0.0->qiskit-terra==0.45.2->qiskit[all]) (6.0.0)\n",
            "Requirement already satisfied: mpmath>=0.19 in /usr/local/lib/python3.10/dist-packages (from sympy>=1.3->qiskit-terra==0.45.2->qiskit[all]) (1.3.0)\n",
            "Requirement already satisfied: importlib-resources in /usr/local/lib/python3.10/dist-packages (from z3-solver>=4.7->qiskit-terra==0.45.2->qiskit[all]) (6.1.1)\n",
            "Requirement already satisfied: jupyter-client in /usr/local/lib/python3.10/dist-packages (from ipykernel>=4.5.1->ipywidgets>=7.3.0->qiskit-terra==0.45.2->qiskit[all]) (6.1.12)\n",
            "Requirement already satisfied: tornado>=4.2 in /usr/local/lib/python3.10/dist-packages (from ipykernel>=4.5.1->ipywidgets>=7.3.0->qiskit-terra==0.45.2->qiskit[all]) (6.3.2)\n",
            "Requirement already satisfied: setuptools>=18.5 in /usr/local/lib/python3.10/dist-packages (from ipython>=4.0.0->ipywidgets>=7.3.0->qiskit-terra==0.45.2->qiskit[all]) (67.7.2)\n",
            "Requirement already satisfied: jedi>=0.16 in /usr/local/lib/python3.10/dist-packages (from ipython>=4.0.0->ipywidgets>=7.3.0->qiskit-terra==0.45.2->qiskit[all]) (0.19.1)\n",
            "Requirement already satisfied: decorator in /usr/local/lib/python3.10/dist-packages (from ipython>=4.0.0->ipywidgets>=7.3.0->qiskit-terra==0.45.2->qiskit[all]) (4.4.2)\n",
            "Requirement already satisfied: pickleshare in /usr/local/lib/python3.10/dist-packages (from ipython>=4.0.0->ipywidgets>=7.3.0->qiskit-terra==0.45.2->qiskit[all]) (0.7.5)\n",
            "Requirement already satisfied: prompt-toolkit!=3.0.0,!=3.0.1,<3.1.0,>=2.0.0 in /usr/local/lib/python3.10/dist-packages (from ipython>=4.0.0->ipywidgets>=7.3.0->qiskit-terra==0.45.2->qiskit[all]) (3.0.43)\n",
            "Requirement already satisfied: backcall in /usr/local/lib/python3.10/dist-packages (from ipython>=4.0.0->ipywidgets>=7.3.0->qiskit-terra==0.45.2->qiskit[all]) (0.2.0)\n",
            "Requirement already satisfied: matplotlib-inline in /usr/local/lib/python3.10/dist-packages (from ipython>=4.0.0->ipywidgets>=7.3.0->qiskit-terra==0.45.2->qiskit[all]) (0.1.6)\n",
            "Requirement already satisfied: pexpect>4.3 in /usr/local/lib/python3.10/dist-packages (from ipython>=4.0.0->ipywidgets>=7.3.0->qiskit-terra==0.45.2->qiskit[all]) (4.9.0)\n",
            "Requirement already satisfied: antlr4-python3-runtime<4.14,>=4.7 in /usr/local/lib/python3.10/dist-packages (from openqasm3[parser]<0.6,>=0.4->qiskit-qasm3-import>=0.1.0->qiskit-terra==0.45.2->qiskit[all]) (4.13.1)\n",
            "Requirement already satisfied: pytz>=2020.1 in /usr/local/lib/python3.10/dist-packages (from pandas>=1.2->seaborn>=0.9.0->qiskit-terra==0.45.2->qiskit[all]) (2023.3.post1)\n",
            "Requirement already satisfied: notebook>=4.4.1 in /usr/local/lib/python3.10/dist-packages (from widgetsnbextension~=3.6.0->ipywidgets>=7.3.0->qiskit-terra==0.45.2->qiskit[all]) (6.5.5)\n",
            "Requirement already satisfied: parso<0.9.0,>=0.8.3 in /usr/local/lib/python3.10/dist-packages (from jedi>=0.16->ipython>=4.0.0->ipywidgets>=7.3.0->qiskit-terra==0.45.2->qiskit[all]) (0.8.3)\n",
            "Requirement already satisfied: jinja2 in /usr/local/lib/python3.10/dist-packages (from notebook>=4.4.1->widgetsnbextension~=3.6.0->ipywidgets>=7.3.0->qiskit-terra==0.45.2->qiskit[all]) (3.1.3)\n",
            "Requirement already satisfied: pyzmq<25,>=17 in /usr/local/lib/python3.10/dist-packages (from notebook>=4.4.1->widgetsnbextension~=3.6.0->ipywidgets>=7.3.0->qiskit-terra==0.45.2->qiskit[all]) (23.2.1)\n",
            "Requirement already satisfied: argon2-cffi in /usr/local/lib/python3.10/dist-packages (from notebook>=4.4.1->widgetsnbextension~=3.6.0->ipywidgets>=7.3.0->qiskit-terra==0.45.2->qiskit[all]) (23.1.0)\n",
            "Requirement already satisfied: jupyter-core>=4.6.1 in /usr/local/lib/python3.10/dist-packages (from notebook>=4.4.1->widgetsnbextension~=3.6.0->ipywidgets>=7.3.0->qiskit-terra==0.45.2->qiskit[all]) (5.7.1)\n",
            "Requirement already satisfied: nbformat in /usr/local/lib/python3.10/dist-packages (from notebook>=4.4.1->widgetsnbextension~=3.6.0->ipywidgets>=7.3.0->qiskit-terra==0.45.2->qiskit[all]) (5.9.2)\n",
            "Requirement already satisfied: nbconvert>=5 in /usr/local/lib/python3.10/dist-packages (from notebook>=4.4.1->widgetsnbextension~=3.6.0->ipywidgets>=7.3.0->qiskit-terra==0.45.2->qiskit[all]) (6.5.4)\n",
            "Requirement already satisfied: nest-asyncio>=1.5 in /usr/local/lib/python3.10/dist-packages (from notebook>=4.4.1->widgetsnbextension~=3.6.0->ipywidgets>=7.3.0->qiskit-terra==0.45.2->qiskit[all]) (1.5.9)\n",
            "Requirement already satisfied: Send2Trash>=1.8.0 in /usr/local/lib/python3.10/dist-packages (from notebook>=4.4.1->widgetsnbextension~=3.6.0->ipywidgets>=7.3.0->qiskit-terra==0.45.2->qiskit[all]) (1.8.2)\n",
            "Requirement already satisfied: terminado>=0.8.3 in /usr/local/lib/python3.10/dist-packages (from notebook>=4.4.1->widgetsnbextension~=3.6.0->ipywidgets>=7.3.0->qiskit-terra==0.45.2->qiskit[all]) (0.18.0)\n",
            "Requirement already satisfied: prometheus-client in /usr/local/lib/python3.10/dist-packages (from notebook>=4.4.1->widgetsnbextension~=3.6.0->ipywidgets>=7.3.0->qiskit-terra==0.45.2->qiskit[all]) (0.19.0)\n",
            "Requirement already satisfied: nbclassic>=0.4.7 in /usr/local/lib/python3.10/dist-packages (from notebook>=4.4.1->widgetsnbextension~=3.6.0->ipywidgets>=7.3.0->qiskit-terra==0.45.2->qiskit[all]) (1.0.0)\n",
            "Requirement already satisfied: ptyprocess>=0.5 in /usr/local/lib/python3.10/dist-packages (from pexpect>4.3->ipython>=4.0.0->ipywidgets>=7.3.0->qiskit-terra==0.45.2->qiskit[all]) (0.7.0)\n",
            "Requirement already satisfied: wcwidth in /usr/local/lib/python3.10/dist-packages (from prompt-toolkit!=3.0.0,!=3.0.1,<3.1.0,>=2.0.0->ipython>=4.0.0->ipywidgets>=7.3.0->qiskit-terra==0.45.2->qiskit[all]) (0.2.13)\n",
            "Requirement already satisfied: platformdirs>=2.5 in /usr/local/lib/python3.10/dist-packages (from jupyter-core>=4.6.1->notebook>=4.4.1->widgetsnbextension~=3.6.0->ipywidgets>=7.3.0->qiskit-terra==0.45.2->qiskit[all]) (4.1.0)\n",
            "Requirement already satisfied: jupyter-server>=1.8 in /usr/local/lib/python3.10/dist-packages (from nbclassic>=0.4.7->notebook>=4.4.1->widgetsnbextension~=3.6.0->ipywidgets>=7.3.0->qiskit-terra==0.45.2->qiskit[all]) (1.24.0)\n",
            "Requirement already satisfied: notebook-shim>=0.2.3 in /usr/local/lib/python3.10/dist-packages (from nbclassic>=0.4.7->notebook>=4.4.1->widgetsnbextension~=3.6.0->ipywidgets>=7.3.0->qiskit-terra==0.45.2->qiskit[all]) (0.2.3)\n",
            "Requirement already satisfied: lxml in /usr/local/lib/python3.10/dist-packages (from nbconvert>=5->notebook>=4.4.1->widgetsnbextension~=3.6.0->ipywidgets>=7.3.0->qiskit-terra==0.45.2->qiskit[all]) (4.9.4)\n",
            "Requirement already satisfied: beautifulsoup4 in /usr/local/lib/python3.10/dist-packages (from nbconvert>=5->notebook>=4.4.1->widgetsnbextension~=3.6.0->ipywidgets>=7.3.0->qiskit-terra==0.45.2->qiskit[all]) (4.11.2)\n",
            "Requirement already satisfied: bleach in /usr/local/lib/python3.10/dist-packages (from nbconvert>=5->notebook>=4.4.1->widgetsnbextension~=3.6.0->ipywidgets>=7.3.0->qiskit-terra==0.45.2->qiskit[all]) (6.1.0)\n",
            "Requirement already satisfied: defusedxml in /usr/local/lib/python3.10/dist-packages (from nbconvert>=5->notebook>=4.4.1->widgetsnbextension~=3.6.0->ipywidgets>=7.3.0->qiskit-terra==0.45.2->qiskit[all]) (0.7.1)\n",
            "Requirement already satisfied: entrypoints>=0.2.2 in /usr/local/lib/python3.10/dist-packages (from nbconvert>=5->notebook>=4.4.1->widgetsnbextension~=3.6.0->ipywidgets>=7.3.0->qiskit-terra==0.45.2->qiskit[all]) (0.4)\n",
            "Requirement already satisfied: jupyterlab-pygments in /usr/local/lib/python3.10/dist-packages (from nbconvert>=5->notebook>=4.4.1->widgetsnbextension~=3.6.0->ipywidgets>=7.3.0->qiskit-terra==0.45.2->qiskit[all]) (0.3.0)\n",
            "Requirement already satisfied: MarkupSafe>=2.0 in /usr/local/lib/python3.10/dist-packages (from nbconvert>=5->notebook>=4.4.1->widgetsnbextension~=3.6.0->ipywidgets>=7.3.0->qiskit-terra==0.45.2->qiskit[all]) (2.1.3)\n",
            "Requirement already satisfied: mistune<2,>=0.8.1 in /usr/local/lib/python3.10/dist-packages (from nbconvert>=5->notebook>=4.4.1->widgetsnbextension~=3.6.0->ipywidgets>=7.3.0->qiskit-terra==0.45.2->qiskit[all]) (0.8.4)\n",
            "Requirement already satisfied: nbclient>=0.5.0 in /usr/local/lib/python3.10/dist-packages (from nbconvert>=5->notebook>=4.4.1->widgetsnbextension~=3.6.0->ipywidgets>=7.3.0->qiskit-terra==0.45.2->qiskit[all]) (0.9.0)\n",
            "Requirement already satisfied: pandocfilters>=1.4.1 in /usr/local/lib/python3.10/dist-packages (from nbconvert>=5->notebook>=4.4.1->widgetsnbextension~=3.6.0->ipywidgets>=7.3.0->qiskit-terra==0.45.2->qiskit[all]) (1.5.0)\n",
            "Requirement already satisfied: tinycss2 in /usr/local/lib/python3.10/dist-packages (from nbconvert>=5->notebook>=4.4.1->widgetsnbextension~=3.6.0->ipywidgets>=7.3.0->qiskit-terra==0.45.2->qiskit[all]) (1.2.1)\n",
            "Requirement already satisfied: fastjsonschema in /usr/local/lib/python3.10/dist-packages (from nbformat->notebook>=4.4.1->widgetsnbextension~=3.6.0->ipywidgets>=7.3.0->qiskit-terra==0.45.2->qiskit[all]) (2.19.1)\n",
            "Requirement already satisfied: jsonschema>=2.6 in /usr/local/lib/python3.10/dist-packages (from nbformat->notebook>=4.4.1->widgetsnbextension~=3.6.0->ipywidgets>=7.3.0->qiskit-terra==0.45.2->qiskit[all]) (4.19.2)\n",
            "Requirement already satisfied: argon2-cffi-bindings in /usr/local/lib/python3.10/dist-packages (from argon2-cffi->notebook>=4.4.1->widgetsnbextension~=3.6.0->ipywidgets>=7.3.0->qiskit-terra==0.45.2->qiskit[all]) (21.2.0)\n",
            "Requirement already satisfied: attrs>=22.2.0 in /usr/local/lib/python3.10/dist-packages (from jsonschema>=2.6->nbformat->notebook>=4.4.1->widgetsnbextension~=3.6.0->ipywidgets>=7.3.0->qiskit-terra==0.45.2->qiskit[all]) (23.2.0)\n",
            "Requirement already satisfied: jsonschema-specifications>=2023.03.6 in /usr/local/lib/python3.10/dist-packages (from jsonschema>=2.6->nbformat->notebook>=4.4.1->widgetsnbextension~=3.6.0->ipywidgets>=7.3.0->qiskit-terra==0.45.2->qiskit[all]) (2023.12.1)\n",
            "Requirement already satisfied: referencing>=0.28.4 in /usr/local/lib/python3.10/dist-packages (from jsonschema>=2.6->nbformat->notebook>=4.4.1->widgetsnbextension~=3.6.0->ipywidgets>=7.3.0->qiskit-terra==0.45.2->qiskit[all]) (0.32.1)\n",
            "Requirement already satisfied: rpds-py>=0.7.1 in /usr/local/lib/python3.10/dist-packages (from jsonschema>=2.6->nbformat->notebook>=4.4.1->widgetsnbextension~=3.6.0->ipywidgets>=7.3.0->qiskit-terra==0.45.2->qiskit[all]) (0.17.1)\n",
            "Requirement already satisfied: anyio<4,>=3.1.0 in /usr/local/lib/python3.10/dist-packages (from jupyter-server>=1.8->nbclassic>=0.4.7->notebook>=4.4.1->widgetsnbextension~=3.6.0->ipywidgets>=7.3.0->qiskit-terra==0.45.2->qiskit[all]) (3.7.1)\n",
            "Requirement already satisfied: websocket-client in /usr/local/lib/python3.10/dist-packages (from jupyter-server>=1.8->nbclassic>=0.4.7->notebook>=4.4.1->widgetsnbextension~=3.6.0->ipywidgets>=7.3.0->qiskit-terra==0.45.2->qiskit[all]) (1.7.0)\n",
            "Requirement already satisfied: cffi>=1.0.1 in /usr/local/lib/python3.10/dist-packages (from argon2-cffi-bindings->argon2-cffi->notebook>=4.4.1->widgetsnbextension~=3.6.0->ipywidgets>=7.3.0->qiskit-terra==0.45.2->qiskit[all]) (1.16.0)\n",
            "Requirement already satisfied: soupsieve>1.2 in /usr/local/lib/python3.10/dist-packages (from beautifulsoup4->nbconvert>=5->notebook>=4.4.1->widgetsnbextension~=3.6.0->ipywidgets>=7.3.0->qiskit-terra==0.45.2->qiskit[all]) (2.5)\n",
            "Requirement already satisfied: webencodings in /usr/local/lib/python3.10/dist-packages (from bleach->nbconvert>=5->notebook>=4.4.1->widgetsnbextension~=3.6.0->ipywidgets>=7.3.0->qiskit-terra==0.45.2->qiskit[all]) (0.5.1)\n",
            "Requirement already satisfied: idna>=2.8 in /usr/local/lib/python3.10/dist-packages (from anyio<4,>=3.1.0->jupyter-server>=1.8->nbclassic>=0.4.7->notebook>=4.4.1->widgetsnbextension~=3.6.0->ipywidgets>=7.3.0->qiskit-terra==0.45.2->qiskit[all]) (3.6)\n",
            "Requirement already satisfied: sniffio>=1.1 in /usr/local/lib/python3.10/dist-packages (from anyio<4,>=3.1.0->jupyter-server>=1.8->nbclassic>=0.4.7->notebook>=4.4.1->widgetsnbextension~=3.6.0->ipywidgets>=7.3.0->qiskit-terra==0.45.2->qiskit[all]) (1.3.0)\n",
            "Requirement already satisfied: exceptiongroup in /usr/local/lib/python3.10/dist-packages (from anyio<4,>=3.1.0->jupyter-server>=1.8->nbclassic>=0.4.7->notebook>=4.4.1->widgetsnbextension~=3.6.0->ipywidgets>=7.3.0->qiskit-terra==0.45.2->qiskit[all]) (1.2.0)\n",
            "Requirement already satisfied: pycparser in /usr/local/lib/python3.10/dist-packages (from cffi>=1.0.1->argon2-cffi-bindings->argon2-cffi->notebook>=4.4.1->widgetsnbextension~=3.6.0->ipywidgets>=7.3.0->qiskit-terra==0.45.2->qiskit[all]) (2.21)\n",
            "Requirement already satisfied: qiskit_aer in /usr/local/lib/python3.10/dist-packages (0.13.2)\n",
            "Requirement already satisfied: qiskit>=0.45.0 in /usr/local/lib/python3.10/dist-packages (from qiskit_aer) (0.45.2)\n",
            "Requirement already satisfied: numpy>=1.16.3 in /usr/local/lib/python3.10/dist-packages (from qiskit_aer) (1.23.5)\n",
            "Requirement already satisfied: scipy>=1.0 in /usr/local/lib/python3.10/dist-packages (from qiskit_aer) (1.11.4)\n",
            "Requirement already satisfied: psutil>=5 in /usr/local/lib/python3.10/dist-packages (from qiskit_aer) (5.9.5)\n",
            "Requirement already satisfied: qiskit-terra==0.45.2 in /usr/local/lib/python3.10/dist-packages (from qiskit>=0.45.0->qiskit_aer) (0.45.2)\n",
            "Requirement already satisfied: rustworkx>=0.13.0 in /usr/local/lib/python3.10/dist-packages (from qiskit-terra==0.45.2->qiskit>=0.45.0->qiskit_aer) (0.14.0)\n",
            "Requirement already satisfied: ply>=3.10 in /usr/local/lib/python3.10/dist-packages (from qiskit-terra==0.45.2->qiskit>=0.45.0->qiskit_aer) (3.11)\n",
            "Requirement already satisfied: sympy>=1.3 in /usr/local/lib/python3.10/dist-packages (from qiskit-terra==0.45.2->qiskit>=0.45.0->qiskit_aer) (1.12)\n",
            "Requirement already satisfied: dill>=0.3 in /usr/local/lib/python3.10/dist-packages (from qiskit-terra==0.45.2->qiskit>=0.45.0->qiskit_aer) (0.3.7)\n",
            "Requirement already satisfied: python-dateutil>=2.8.0 in /usr/local/lib/python3.10/dist-packages (from qiskit-terra==0.45.2->qiskit>=0.45.0->qiskit_aer) (2.8.2)\n",
            "Requirement already satisfied: stevedore>=3.0.0 in /usr/local/lib/python3.10/dist-packages (from qiskit-terra==0.45.2->qiskit>=0.45.0->qiskit_aer) (5.1.0)\n",
            "Requirement already satisfied: symengine!=0.10.0,>=0.9 in /usr/local/lib/python3.10/dist-packages (from qiskit-terra==0.45.2->qiskit>=0.45.0->qiskit_aer) (0.11.0)\n",
            "Requirement already satisfied: typing-extensions in /usr/local/lib/python3.10/dist-packages (from qiskit-terra==0.45.2->qiskit>=0.45.0->qiskit_aer) (4.9.0)\n",
            "Requirement already satisfied: six>=1.5 in /usr/local/lib/python3.10/dist-packages (from python-dateutil>=2.8.0->qiskit-terra==0.45.2->qiskit>=0.45.0->qiskit_aer) (1.16.0)\n",
            "Requirement already satisfied: pbr!=2.1.0,>=2.0.0 in /usr/local/lib/python3.10/dist-packages (from stevedore>=3.0.0->qiskit-terra==0.45.2->qiskit>=0.45.0->qiskit_aer) (6.0.0)\n",
            "Requirement already satisfied: mpmath>=0.19 in /usr/local/lib/python3.10/dist-packages (from sympy>=1.3->qiskit-terra==0.45.2->qiskit>=0.45.0->qiskit_aer) (1.3.0)\n",
            "Requirement already satisfied: qiskit_optimization in /usr/local/lib/python3.10/dist-packages (0.6.0)\n",
            "Requirement already satisfied: qiskit>=0.44 in /usr/local/lib/python3.10/dist-packages (from qiskit_optimization) (0.45.2)\n",
            "Requirement already satisfied: qiskit-algorithms>=0.2.0 in /usr/local/lib/python3.10/dist-packages (from qiskit_optimization) (0.2.2)\n",
            "Requirement already satisfied: scipy>=1.9.0 in /usr/local/lib/python3.10/dist-packages (from qiskit_optimization) (1.11.4)\n",
            "Requirement already satisfied: numpy>=1.17 in /usr/local/lib/python3.10/dist-packages (from qiskit_optimization) (1.23.5)\n",
            "Requirement already satisfied: docplex!=2.24.231,>=2.21.207 in /usr/local/lib/python3.10/dist-packages (from qiskit_optimization) (2.25.236)\n",
            "Requirement already satisfied: setuptools>=40.1.0 in /usr/local/lib/python3.10/dist-packages (from qiskit_optimization) (67.7.2)\n",
            "Requirement already satisfied: networkx>=2.6.3 in /usr/local/lib/python3.10/dist-packages (from qiskit_optimization) (3.2.1)\n",
            "Requirement already satisfied: six in /usr/local/lib/python3.10/dist-packages (from docplex!=2.24.231,>=2.21.207->qiskit_optimization) (1.16.0)\n",
            "Requirement already satisfied: qiskit-terra==0.45.2 in /usr/local/lib/python3.10/dist-packages (from qiskit>=0.44->qiskit_optimization) (0.45.2)\n",
            "Requirement already satisfied: rustworkx>=0.13.0 in /usr/local/lib/python3.10/dist-packages (from qiskit-terra==0.45.2->qiskit>=0.44->qiskit_optimization) (0.14.0)\n",
            "Requirement already satisfied: ply>=3.10 in /usr/local/lib/python3.10/dist-packages (from qiskit-terra==0.45.2->qiskit>=0.44->qiskit_optimization) (3.11)\n",
            "Requirement already satisfied: psutil>=5 in /usr/local/lib/python3.10/dist-packages (from qiskit-terra==0.45.2->qiskit>=0.44->qiskit_optimization) (5.9.5)\n",
            "Requirement already satisfied: sympy>=1.3 in /usr/local/lib/python3.10/dist-packages (from qiskit-terra==0.45.2->qiskit>=0.44->qiskit_optimization) (1.12)\n",
            "Requirement already satisfied: dill>=0.3 in /usr/local/lib/python3.10/dist-packages (from qiskit-terra==0.45.2->qiskit>=0.44->qiskit_optimization) (0.3.7)\n",
            "Requirement already satisfied: python-dateutil>=2.8.0 in /usr/local/lib/python3.10/dist-packages (from qiskit-terra==0.45.2->qiskit>=0.44->qiskit_optimization) (2.8.2)\n",
            "Requirement already satisfied: stevedore>=3.0.0 in /usr/local/lib/python3.10/dist-packages (from qiskit-terra==0.45.2->qiskit>=0.44->qiskit_optimization) (5.1.0)\n",
            "Requirement already satisfied: symengine!=0.10.0,>=0.9 in /usr/local/lib/python3.10/dist-packages (from qiskit-terra==0.45.2->qiskit>=0.44->qiskit_optimization) (0.11.0)\n",
            "Requirement already satisfied: typing-extensions in /usr/local/lib/python3.10/dist-packages (from qiskit-terra==0.45.2->qiskit>=0.44->qiskit_optimization) (4.9.0)\n",
            "Requirement already satisfied: pbr!=2.1.0,>=2.0.0 in /usr/local/lib/python3.10/dist-packages (from stevedore>=3.0.0->qiskit-terra==0.45.2->qiskit>=0.44->qiskit_optimization) (6.0.0)\n",
            "Requirement already satisfied: mpmath>=0.19 in /usr/local/lib/python3.10/dist-packages (from sympy>=1.3->qiskit-terra==0.45.2->qiskit>=0.44->qiskit_optimization) (1.3.0)\n",
            "Requirement already satisfied: qiskit_finance in /usr/local/lib/python3.10/dist-packages (0.4.0)\n",
            "Requirement already satisfied: qiskit>=0.44 in /usr/local/lib/python3.10/dist-packages (from qiskit_finance) (0.45.2)\n",
            "Requirement already satisfied: qiskit-algorithms>=0.2.0 in /usr/local/lib/python3.10/dist-packages (from qiskit_finance) (0.2.2)\n",
            "Requirement already satisfied: qiskit-optimization>=0.6.0 in /usr/local/lib/python3.10/dist-packages (from qiskit_finance) (0.6.0)\n",
            "Requirement already satisfied: scipy>=1.4 in /usr/local/lib/python3.10/dist-packages (from qiskit_finance) (1.11.4)\n",
            "Requirement already satisfied: numpy>=1.17 in /usr/local/lib/python3.10/dist-packages (from qiskit_finance) (1.23.5)\n",
            "Requirement already satisfied: psutil>=5 in /usr/local/lib/python3.10/dist-packages (from qiskit_finance) (5.9.5)\n",
            "Requirement already satisfied: fastdtw in /usr/local/lib/python3.10/dist-packages (from qiskit_finance) (0.3.4)\n",
            "Requirement already satisfied: setuptools>=40.1.0 in /usr/local/lib/python3.10/dist-packages (from qiskit_finance) (67.7.2)\n",
            "Requirement already satisfied: pandas in /usr/local/lib/python3.10/dist-packages (from qiskit_finance) (1.5.3)\n",
            "Requirement already satisfied: nasdaq-data-link in /usr/local/lib/python3.10/dist-packages (from qiskit_finance) (1.0.4)\n",
            "Requirement already satisfied: yfinance>=0.1.70 in /usr/local/lib/python3.10/dist-packages (from qiskit_finance) (0.2.35)\n",
            "Requirement already satisfied: certifi in /usr/local/lib/python3.10/dist-packages (from qiskit_finance) (2023.11.17)\n",
            "Requirement already satisfied: urllib3 in /usr/local/lib/python3.10/dist-packages (from qiskit_finance) (2.0.7)\n",
            "Requirement already satisfied: qiskit-terra==0.45.2 in /usr/local/lib/python3.10/dist-packages (from qiskit>=0.44->qiskit_finance) (0.45.2)\n",
            "Requirement already satisfied: rustworkx>=0.13.0 in /usr/local/lib/python3.10/dist-packages (from qiskit-terra==0.45.2->qiskit>=0.44->qiskit_finance) (0.14.0)\n",
            "Requirement already satisfied: ply>=3.10 in /usr/local/lib/python3.10/dist-packages (from qiskit-terra==0.45.2->qiskit>=0.44->qiskit_finance) (3.11)\n",
            "Requirement already satisfied: sympy>=1.3 in /usr/local/lib/python3.10/dist-packages (from qiskit-terra==0.45.2->qiskit>=0.44->qiskit_finance) (1.12)\n",
            "Requirement already satisfied: dill>=0.3 in /usr/local/lib/python3.10/dist-packages (from qiskit-terra==0.45.2->qiskit>=0.44->qiskit_finance) (0.3.7)\n",
            "Requirement already satisfied: python-dateutil>=2.8.0 in /usr/local/lib/python3.10/dist-packages (from qiskit-terra==0.45.2->qiskit>=0.44->qiskit_finance) (2.8.2)\n",
            "Requirement already satisfied: stevedore>=3.0.0 in /usr/local/lib/python3.10/dist-packages (from qiskit-terra==0.45.2->qiskit>=0.44->qiskit_finance) (5.1.0)\n",
            "Requirement already satisfied: symengine!=0.10.0,>=0.9 in /usr/local/lib/python3.10/dist-packages (from qiskit-terra==0.45.2->qiskit>=0.44->qiskit_finance) (0.11.0)\n",
            "Requirement already satisfied: typing-extensions in /usr/local/lib/python3.10/dist-packages (from qiskit-terra==0.45.2->qiskit>=0.44->qiskit_finance) (4.9.0)\n",
            "Requirement already satisfied: docplex!=2.24.231,>=2.21.207 in /usr/local/lib/python3.10/dist-packages (from qiskit-optimization>=0.6.0->qiskit_finance) (2.25.236)\n",
            "Requirement already satisfied: networkx>=2.6.3 in /usr/local/lib/python3.10/dist-packages (from qiskit-optimization>=0.6.0->qiskit_finance) (3.2.1)\n",
            "Requirement already satisfied: requests>=2.31 in /usr/local/lib/python3.10/dist-packages (from yfinance>=0.1.70->qiskit_finance) (2.31.0)\n",
            "Requirement already satisfied: multitasking>=0.0.7 in /usr/local/lib/python3.10/dist-packages (from yfinance>=0.1.70->qiskit_finance) (0.0.11)\n",
            "Requirement already satisfied: lxml>=4.9.1 in /usr/local/lib/python3.10/dist-packages (from yfinance>=0.1.70->qiskit_finance) (4.9.4)\n",
            "Requirement already satisfied: appdirs>=1.4.4 in /usr/local/lib/python3.10/dist-packages (from yfinance>=0.1.70->qiskit_finance) (1.4.4)\n",
            "Requirement already satisfied: pytz>=2022.5 in /usr/local/lib/python3.10/dist-packages (from yfinance>=0.1.70->qiskit_finance) (2023.3.post1)\n",
            "Requirement already satisfied: frozendict>=2.3.4 in /usr/local/lib/python3.10/dist-packages (from yfinance>=0.1.70->qiskit_finance) (2.4.0)\n",
            "Requirement already satisfied: peewee>=3.16.2 in /usr/local/lib/python3.10/dist-packages (from yfinance>=0.1.70->qiskit_finance) (3.17.0)\n",
            "Requirement already satisfied: beautifulsoup4>=4.11.1 in /usr/local/lib/python3.10/dist-packages (from yfinance>=0.1.70->qiskit_finance) (4.11.2)\n",
            "Requirement already satisfied: html5lib>=1.1 in /usr/local/lib/python3.10/dist-packages (from yfinance>=0.1.70->qiskit_finance) (1.1)\n",
            "Requirement already satisfied: inflection>=0.3.1 in /usr/local/lib/python3.10/dist-packages (from nasdaq-data-link->qiskit_finance) (0.5.1)\n",
            "Requirement already satisfied: six in /usr/local/lib/python3.10/dist-packages (from nasdaq-data-link->qiskit_finance) (1.16.0)\n",
            "Requirement already satisfied: more-itertools in /usr/local/lib/python3.10/dist-packages (from nasdaq-data-link->qiskit_finance) (10.1.0)\n",
            "Requirement already satisfied: soupsieve>1.2 in /usr/local/lib/python3.10/dist-packages (from beautifulsoup4>=4.11.1->yfinance>=0.1.70->qiskit_finance) (2.5)\n",
            "Requirement already satisfied: webencodings in /usr/local/lib/python3.10/dist-packages (from html5lib>=1.1->yfinance>=0.1.70->qiskit_finance) (0.5.1)\n",
            "Requirement already satisfied: charset-normalizer<4,>=2 in /usr/local/lib/python3.10/dist-packages (from requests>=2.31->yfinance>=0.1.70->qiskit_finance) (3.3.2)\n",
            "Requirement already satisfied: idna<4,>=2.5 in /usr/local/lib/python3.10/dist-packages (from requests>=2.31->yfinance>=0.1.70->qiskit_finance) (3.6)\n",
            "Requirement already satisfied: pbr!=2.1.0,>=2.0.0 in /usr/local/lib/python3.10/dist-packages (from stevedore>=3.0.0->qiskit-terra==0.45.2->qiskit>=0.44->qiskit_finance) (6.0.0)\n",
            "Requirement already satisfied: mpmath>=0.19 in /usr/local/lib/python3.10/dist-packages (from sympy>=1.3->qiskit-terra==0.45.2->qiskit>=0.44->qiskit_finance) (1.3.0)\n",
            "Requirement already satisfied: scipy in /usr/local/lib/python3.10/dist-packages (1.11.4)\n",
            "Requirement already satisfied: numpy<1.28.0,>=1.21.6 in /usr/local/lib/python3.10/dist-packages (from scipy) (1.23.5)\n"
          ]
        }
      ]
    },
    {
      "cell_type": "code",
      "source": [
        "!pip install dwave-ocean-sdk"
      ],
      "metadata": {
        "colab": {
          "base_uri": "https://localhost:8080/"
        },
        "id": "8DlOknadAZms",
        "outputId": "34a511e3-c4fa-4eae-ab28-c8b26488941b"
      },
      "execution_count": null,
      "outputs": [
        {
          "output_type": "stream",
          "name": "stdout",
          "text": [
            "Requirement already satisfied: dwave-ocean-sdk in /usr/local/lib/python3.10/dist-packages (6.8.0)\n",
            "Requirement already satisfied: dimod==0.12.14 in /usr/local/lib/python3.10/dist-packages (from dwave-ocean-sdk) (0.12.14)\n",
            "Requirement already satisfied: dwave-cloud-client==0.11.2 in /usr/local/lib/python3.10/dist-packages (from dwave-ocean-sdk) (0.11.2)\n",
            "Requirement already satisfied: dwave-greedy==0.3.0 in /usr/local/lib/python3.10/dist-packages (from dwave-ocean-sdk) (0.3.0)\n",
            "Requirement already satisfied: dwave-hybrid==0.6.10 in /usr/local/lib/python3.10/dist-packages (from dwave-ocean-sdk) (0.6.10)\n",
            "Requirement already satisfied: dwave-inspector==0.4.4 in /usr/local/lib/python3.10/dist-packages (from dwave-ocean-sdk) (0.4.4)\n",
            "Requirement already satisfied: dwave-neal==0.6.0 in /usr/local/lib/python3.10/dist-packages (from dwave-ocean-sdk) (0.6.0)\n",
            "Requirement already satisfied: dwave-networkx==0.8.14 in /usr/local/lib/python3.10/dist-packages (from dwave-ocean-sdk) (0.8.14)\n",
            "Requirement already satisfied: dwave-preprocessing==0.6.5 in /usr/local/lib/python3.10/dist-packages (from dwave-ocean-sdk) (0.6.5)\n",
            "Requirement already satisfied: dwave-samplers==1.2.0 in /usr/local/lib/python3.10/dist-packages (from dwave-ocean-sdk) (1.2.0)\n",
            "Requirement already satisfied: dwave-system==1.23.0 in /usr/local/lib/python3.10/dist-packages (from dwave-ocean-sdk) (1.23.0)\n",
            "Requirement already satisfied: dwave-tabu==0.5.0 in /usr/local/lib/python3.10/dist-packages (from dwave-ocean-sdk) (0.5.0)\n",
            "Requirement already satisfied: dwavebinarycsp==0.3.0 in /usr/local/lib/python3.10/dist-packages (from dwave-ocean-sdk) (0.3.0)\n",
            "Requirement already satisfied: minorminer==0.2.13 in /usr/local/lib/python3.10/dist-packages (from dwave-ocean-sdk) (0.2.13)\n",
            "Requirement already satisfied: penaltymodel==1.1.0 in /usr/local/lib/python3.10/dist-packages (from dwave-ocean-sdk) (1.1.0)\n",
            "Requirement already satisfied: numpy<2.0.0,>=1.17.3 in /usr/local/lib/python3.10/dist-packages (from dimod==0.12.14->dwave-ocean-sdk) (1.23.5)\n",
            "Requirement already satisfied: requests[socks]>=2.18 in /usr/local/lib/python3.10/dist-packages (from dwave-cloud-client==0.11.2->dwave-ocean-sdk) (2.31.0)\n",
            "Requirement already satisfied: pydantic<3,>=2 in /usr/local/lib/python3.10/dist-packages (from dwave-cloud-client==0.11.2->dwave-ocean-sdk) (2.5.3)\n",
            "Requirement already satisfied: homebase>=1.0 in /usr/local/lib/python3.10/dist-packages (from dwave-cloud-client==0.11.2->dwave-ocean-sdk) (1.0.1)\n",
            "Requirement already satisfied: click>=7.0 in /usr/local/lib/python3.10/dist-packages (from dwave-cloud-client==0.11.2->dwave-ocean-sdk) (8.1.7)\n",
            "Requirement already satisfied: python-dateutil>=2.7 in /usr/local/lib/python3.10/dist-packages (from dwave-cloud-client==0.11.2->dwave-ocean-sdk) (2.8.2)\n",
            "Requirement already satisfied: plucky>=0.4.3 in /usr/local/lib/python3.10/dist-packages (from dwave-cloud-client==0.11.2->dwave-ocean-sdk) (0.4.3)\n",
            "Requirement already satisfied: diskcache>=5.2.1 in /usr/local/lib/python3.10/dist-packages (from dwave-cloud-client==0.11.2->dwave-ocean-sdk) (5.6.3)\n",
            "Requirement already satisfied: packaging>=19 in /usr/local/lib/python3.10/dist-packages (from dwave-cloud-client==0.11.2->dwave-ocean-sdk) (23.2)\n",
            "Requirement already satisfied: werkzeug>=2.2 in /usr/local/lib/python3.10/dist-packages (from dwave-cloud-client==0.11.2->dwave-ocean-sdk) (3.0.1)\n",
            "Requirement already satisfied: typing-extensions>=4.5.0 in /usr/local/lib/python3.10/dist-packages (from dwave-cloud-client==0.11.2->dwave-ocean-sdk) (4.9.0)\n",
            "Requirement already satisfied: authlib<2,>=1.2 in /usr/local/lib/python3.10/dist-packages (from dwave-cloud-client==0.11.2->dwave-ocean-sdk) (1.3.0)\n",
            "Requirement already satisfied: importlib-metadata>=5.0.0 in /usr/local/lib/python3.10/dist-packages (from dwave-cloud-client==0.11.2->dwave-ocean-sdk) (7.0.1)\n",
            "Requirement already satisfied: networkx in /usr/local/lib/python3.10/dist-packages (from dwave-hybrid==0.6.10->dwave-ocean-sdk) (3.2.1)\n",
            "Requirement already satisfied: Flask>=2.2 in /usr/local/lib/python3.10/dist-packages (from dwave-inspector==0.4.4->dwave-ocean-sdk) (2.2.5)\n",
            "Requirement already satisfied: scipy>=1.7.3 in /usr/local/lib/python3.10/dist-packages (from dwave-system==1.23.0->dwave-ocean-sdk) (1.11.4)\n",
            "Requirement already satisfied: fasteners>=0.15 in /usr/local/lib/python3.10/dist-packages (from minorminer==0.2.13->dwave-ocean-sdk) (0.19)\n",
            "Requirement already satisfied: rectangle-packer>=2.0.1 in /usr/local/lib/python3.10/dist-packages (from minorminer==0.2.13->dwave-ocean-sdk) (2.0.2)\n",
            "Requirement already satisfied: cryptography in /usr/local/lib/python3.10/dist-packages (from authlib<2,>=1.2->dwave-cloud-client==0.11.2->dwave-ocean-sdk) (41.0.7)\n",
            "Requirement already satisfied: Jinja2>=3.0 in /usr/local/lib/python3.10/dist-packages (from Flask>=2.2->dwave-inspector==0.4.4->dwave-ocean-sdk) (3.1.3)\n",
            "Requirement already satisfied: itsdangerous>=2.0 in /usr/local/lib/python3.10/dist-packages (from Flask>=2.2->dwave-inspector==0.4.4->dwave-ocean-sdk) (2.1.2)\n",
            "Requirement already satisfied: zipp>=0.5 in /usr/local/lib/python3.10/dist-packages (from importlib-metadata>=5.0.0->dwave-cloud-client==0.11.2->dwave-ocean-sdk) (3.17.0)\n",
            "Requirement already satisfied: annotated-types>=0.4.0 in /usr/local/lib/python3.10/dist-packages (from pydantic<3,>=2->dwave-cloud-client==0.11.2->dwave-ocean-sdk) (0.6.0)\n",
            "Requirement already satisfied: pydantic-core==2.14.6 in /usr/local/lib/python3.10/dist-packages (from pydantic<3,>=2->dwave-cloud-client==0.11.2->dwave-ocean-sdk) (2.14.6)\n",
            "Requirement already satisfied: six>=1.5 in /usr/local/lib/python3.10/dist-packages (from python-dateutil>=2.7->dwave-cloud-client==0.11.2->dwave-ocean-sdk) (1.16.0)\n",
            "Requirement already satisfied: charset-normalizer<4,>=2 in /usr/local/lib/python3.10/dist-packages (from requests[socks]>=2.18->dwave-cloud-client==0.11.2->dwave-ocean-sdk) (3.3.2)\n",
            "Requirement already satisfied: idna<4,>=2.5 in /usr/local/lib/python3.10/dist-packages (from requests[socks]>=2.18->dwave-cloud-client==0.11.2->dwave-ocean-sdk) (3.6)\n",
            "Requirement already satisfied: urllib3<3,>=1.21.1 in /usr/local/lib/python3.10/dist-packages (from requests[socks]>=2.18->dwave-cloud-client==0.11.2->dwave-ocean-sdk) (2.0.7)\n",
            "Requirement already satisfied: certifi>=2017.4.17 in /usr/local/lib/python3.10/dist-packages (from requests[socks]>=2.18->dwave-cloud-client==0.11.2->dwave-ocean-sdk) (2023.11.17)\n",
            "Requirement already satisfied: PySocks!=1.5.7,>=1.5.6 in /usr/local/lib/python3.10/dist-packages (from requests[socks]>=2.18->dwave-cloud-client==0.11.2->dwave-ocean-sdk) (1.7.1)\n",
            "Requirement already satisfied: MarkupSafe>=2.1.1 in /usr/local/lib/python3.10/dist-packages (from werkzeug>=2.2->dwave-cloud-client==0.11.2->dwave-ocean-sdk) (2.1.3)\n",
            "Requirement already satisfied: cffi>=1.12 in /usr/local/lib/python3.10/dist-packages (from cryptography->authlib<2,>=1.2->dwave-cloud-client==0.11.2->dwave-ocean-sdk) (1.16.0)\n",
            "Requirement already satisfied: pycparser in /usr/local/lib/python3.10/dist-packages (from cffi>=1.12->cryptography->authlib<2,>=1.2->dwave-cloud-client==0.11.2->dwave-ocean-sdk) (2.21)\n"
          ]
        }
      ]
    },
    {
      "cell_type": "markdown",
      "metadata": {
        "id": "CXb0WCSb1Eak"
      },
      "source": [
        "## Introduction\n",
        "\n",
        "\n",
        "\n",
        "\n",
        "> ## here we are framing the mathematical representation of our objective function.\n",
        "\n",
        "\n",
        "\n",
        "This tutorial shows how to solve the following mean-variance portfolio optimization problem for $n$ assets:\n",
        "\n",
        "$$\\begin{aligned}\n",
        "\\min_{x \\in \\{0, 1\\}^n}  q x^T \\Sigma x - \\mu^T x\\\\\n",
        "\\text{subject to: } 1^T x = B\n",
        "\\end{aligned}$$\n",
        "\n",
        "where we use the following notation:\n",
        "\n",
        "- $x \\in \\{0, 1\\}^n$ denotes the vector of binary decision variables, which indicate which assets to pick ($x[i] = 1$) and which not to pick ($x[i] = 0$),\n",
        "- $\\mu \\in \\mathbb{R}^n$ defines the expected returns for the assets,\n",
        "- $\\Sigma \\in \\mathbb{R}^{n \\times n}$ specifies the covariances between the assets,\n",
        "- $q > 0$ controls the risk appetite of the decision maker,\n",
        "- and $B$ denotes the budget, i.e. the number of assets to be selected out of $n$.\n",
        "\n",
        "We assume the following simplifications:\n",
        "- all assets have the same price (normalized to 1),\n",
        "- the full budget $B$ has to be spent, i.e. one has to select exactly $B$ assets.\n",
        "\n",
        "The equality constraint $1^T x = B$ is mapped to a penalty term $(1^T x - B)^2$ which is scaled by a parameter and subtracted from the objective function.\n",
        "The resulting problem can be mapped to a Hamiltonian whose ground state corresponds to  the optimal solution.\n",
        "This notebook shows how to use the Sampling Variational Quantum Eigensolver (`SamplingVQE`) or the Quantum Approximate Optimization Algorithm (`QAOA`) from [Qiskit Algorithms](https://qiskit.org/ecosystem/algorithms/apidocs/qiskit_algorithms.html#minimum-eigensolvers) to find the optimal solution for a given set of parameters.\n",
        "\n",
        "Experiments on real quantum hardware for this problem are reported for instance in the following paper:\n",
        "<br>\n",
        "[Improving Variational Quantum Optimization using CVaR. Barkoutsos et al. 2019.](https://arxiv.org/abs/1907.04769)"
      ]
    },
    {
      "cell_type": "code",
      "execution_count": null,
      "metadata": {
        "ExecuteTime": {
          "end_time": "2020-07-13T20:35:05.710593Z",
          "start_time": "2020-07-13T20:34:57.647535Z"
        },
        "id": "pYBLlJtP1Eak"
      },
      "outputs": [],
      "source": [
        "## import seciton\n",
        "\n",
        "from qiskit.circuit.library import TwoLocal\n",
        "from qiskit.result import QuasiDistribution\n",
        "from qiskit_aer.primitives import Sampler\n",
        "from qiskit_algorithms import NumPyMinimumEigensolver, QAOA, SamplingVQE\n",
        "from qiskit_algorithms.optimizers import COBYLA\n",
        "from qiskit_finance.applications.optimization import PortfolioOptimization\n",
        "from qiskit_finance.data_providers import RandomDataProvider\n",
        "from qiskit_optimization.algorithms import MinimumEigenOptimizer\n",
        "import numpy as np\n",
        "import matplotlib.pyplot as plt\n",
        "import datetime\n",
        "import yfinance as yf"
      ]
    },
    {
      "cell_type": "markdown",
      "metadata": {
        "id": "7x7LBoix1Eal"
      },
      "source": [
        "## Define problem instance\n",
        "\n",
        "Here an Operator instance is created for our Hamiltonian. In this case the paulis are from an Ising Hamiltonian translated from the portfolio problem. We use a random portfolio problem for this notebook. It is straight-forward to extend this to using real financial data as illustrated here\n"
      ]
    },
    {
      "cell_type": "code",
      "execution_count": null,
      "metadata": {
        "ExecuteTime": {
          "end_time": "2020-07-13T20:35:15.224327Z",
          "start_time": "2020-07-13T20:35:15.213892Z"
        },
        "id": "CRyuIvw11Eam",
        "colab": {
          "base_uri": "https://localhost:8080/"
        },
        "outputId": "85c167c8-8dc3-4363-c7b9-48982b5e59d3"
      },
      "outputs": [
        {
          "output_type": "stream",
          "name": "stderr",
          "text": [
            "[*********************100%%**********************]  8 of 8 completed\n"
          ]
        }
      ],
      "source": [
        "## passing start and end date\n",
        "start_date = \"2012-01-01\"\n",
        "end_date = \"2022-01-01\"\n",
        "\n",
        "assets = [\"JPM\", \"GS\", \"MSFT\", \"AAPL\", \"KO\", \"WMT\", \"MCD\", \"NKE\"] ##list of assets\n",
        "\n",
        "## code to give a call to yfinance api request.\n",
        "stocks_data = yf.download(assets, start = start_date, end = end_date)['Adj Close']\n",
        "stocks_data ## df of Adj. closing price"
      ]
    },
    {
      "cell_type": "code",
      "source": [
        "stock_return = stocks_data.pct_change() ## applying percentage change on the adj closing price"
      ],
      "metadata": {
        "id": "VT5Pp6yXeFZ7"
      },
      "execution_count": null,
      "outputs": []
    },
    {
      "cell_type": "code",
      "source": [
        "mu = stock_return.mean() ## mean of the df\n",
        "sigma = stock_return.cov() ## covariance of the df\n",
        "sigma = np.array(sigma)\n",
        "mu = np.array(mu)\n",
        "num_assets = len(mu)"
      ],
      "metadata": {
        "id": "rVLV6nTv26LM"
      },
      "execution_count": null,
      "outputs": []
    },
    {
      "cell_type": "code",
      "execution_count": null,
      "metadata": {
        "tags": [
          "nbsphinx-thumbnail"
        ],
        "id": "jQdNqLqO1Eam",
        "colab": {
          "base_uri": "https://localhost:8080/",
          "height": 430
        },
        "outputId": "0b7c8d1d-94eb-4e6b-841b-5dfddd5065a2"
      },
      "outputs": [
        {
          "output_type": "display_data",
          "data": {
            "text/plain": [
              "<Figure size 640x480 with 1 Axes>"
            ],
            "image/png": "[encoded data removed]"
          },
          "metadata": {}
        }
      ],
      "source": [
        "# plot heatmap of covariance matrix\n",
        "plt.imshow(sigma, interpolation=\"nearest\")\n",
        "plt.show()"
      ]
    },
    {
      "cell_type": "code",
      "execution_count": null,
      "metadata": {
        "ExecuteTime": {
          "end_time": "2020-07-13T20:35:15.231767Z",
          "start_time": "2020-07-13T20:35:15.226490Z"
        },
        "id": "DQHD3Nej1Ean",
        "colab": {
          "base_uri": "https://localhost:8080/"
        },
        "outputId": "4103702d-4e16-43f7-aa43-3df8e84055c3"
      },
      "outputs": [
        {
          "output_type": "execute_result",
          "data": {
            "text/plain": [
              "<QuadraticProgram: minimize 0.0001595198694878035*x_0^2 + 0.000132823609926143..., 8 variables, 1 constraints, 'Portfolio optimization'>"
            ]
          },
          "metadata": {},
          "execution_count": 7
        }
      ],
      "source": [
        "q = 0.5  # set risk factor\n",
        "budget = num_assets // 2  # set budget\n",
        "penalty = num_assets  # set parameter to scale the budget penalty term\n",
        "\n",
        "## passing the input to portfolio optimization class, getting a quadratic program as an output.\n",
        "portfolio = PortfolioOptimization(\n",
        "    expected_returns=mu, covariances=sigma, risk_factor=q, budget=budget\n",
        ")\n",
        "qp = portfolio.to_quadratic_program()\n",
        "qp"
      ]
    },
    {
      "cell_type": "markdown",
      "metadata": {
        "id": "wmzYVQio1Ean"
      },
      "source": [
        "We define some utility methods to print the results in a nice format."
      ]
    },
    {
      "cell_type": "code",
      "execution_count": null,
      "metadata": {
        "ExecuteTime": {
          "end_time": "2020-07-13T20:35:15.243604Z",
          "start_time": "2020-07-13T20:35:15.233567Z"
        },
        "id": "kB1Rhk2M1Eao"
      },
      "outputs": [],
      "source": []
    },
    {
      "cell_type": "markdown",
      "metadata": {
        "id": "VkqTOHdl1Eao"
      },
      "source": [
        "## NumPyMinimumEigensolver (as a classical reference)\n",
        "Lets solve the problem. First classically...\n",
        "\n",
        "We can now use the Operator we built above without regard to the specifics of how it was created. We set the algorithm for the NumPyMinimumEigensolver so we can have a classical reference. The problem is set for 'ising'. Backend is not required since this is computed classically not using quantum computation. The result is returned as a dictionary."
      ]
    },
    {
      "cell_type": "code",
      "execution_count": null,
      "metadata": {
        "ExecuteTime": {
          "end_time": "2020-07-13T20:35:15.264319Z",
          "start_time": "2020-07-13T20:35:15.245811Z"
        },
        "id": "S4fdoPa-1Eao",
        "colab": {
          "base_uri": "https://localhost:8080/"
        },
        "outputId": "39e976d3-b670-4fd1-eb79-84f0ecb207c3"
      },
      "outputs": [
        {
          "output_type": "execute_result",
          "data": {
            "text/plain": [
              "<MinimumEigenOptimizationResult: fval=-0.002925098242321093, x_0=1.0, x_1=0.0, x_2=1.0, x_3=0.0, x_4=0.0, x_5=1.0, x_6=1.0, x_7=0.0, status=SUCCESS>"
            ]
          },
          "metadata": {},
          "execution_count": 8
        }
      ],
      "source": [
        "## numpy minimum eigen solver is a classical method which mimics the working of vqe/qaoa algorithm.\n",
        "\n",
        "exact_mes = NumPyMinimumEigensolver()\n",
        "exact_eigensolver = MinimumEigenOptimizer(exact_mes)\n",
        "\n",
        "exact_result = exact_eigensolver.solve(qp)\n",
        "\n",
        "exact_result"
      ]
    },
    {
      "cell_type": "markdown",
      "metadata": {
        "id": "kdz10WWf1Eap"
      },
      "source": [
        "## Solution using `SamplingVQE`\n",
        "We can now use the Sampling Variational Quantum Eigensolver (`SamplingVQE`) to solve the problem. We will specify the optimizer and variational form to be used."
      ]
    },
    {
      "cell_type": "code",
      "execution_count": null,
      "metadata": {
        "ExecuteTime": {
          "end_time": "2020-07-13T20:35:26.536878Z",
          "start_time": "2020-07-13T20:35:24.379996Z"
        },
        "id": "Dl9c8vWE1Eap",
        "colab": {
          "base_uri": "https://localhost:8080/"
        },
        "outputId": "9a60ddf0-4c30-42ef-c2d2-c659bcc7e9a8"
      },
      "outputs": [
        {
          "output_type": "stream",
          "name": "stdout",
          "text": [
            "[1. 0. 0. 0. 1. 1. 1. 0.]\n"
          ]
        },
        {
          "output_type": "execute_result",
          "data": {
            "text/plain": [
              "<MinimumEigenOptimizationResult: fval=-0.002823934954760241, x_0=1.0, x_1=0.0, x_2=0.0, x_3=0.0, x_4=1.0, x_5=1.0, x_6=1.0, x_7=0.0, status=SUCCESS>"
            ]
          },
          "metadata": {},
          "execution_count": 9
        }
      ],
      "source": [
        "## running VQE algorithm\n",
        "\n",
        "from qiskit_algorithms.utils import algorithm_globals\n",
        "\n",
        "algorithm_globals.random_seed = 1234\n",
        "\n",
        "cobyla = COBYLA()\n",
        "cobyla.set_options(maxiter=500)\n",
        "ry = TwoLocal(num_assets, \"ry\", \"cz\", reps=3, entanglement=\"full\")\n",
        "svqe_mes = SamplingVQE(sampler=Sampler(), ansatz=ry, optimizer=cobyla)\n",
        "svqe = MinimumEigenOptimizer(svqe_mes)\n",
        "vqe_result = svqe.solve(qp)\n",
        "print(vqe_result.x) ## this is a binary output, 1 means that stock is selected, and 0 is otherwise.\n",
        "vqe_result"
      ]
    },
    {
      "cell_type": "markdown",
      "metadata": {
        "id": "e8ZGmt_L1Eap"
      },
      "source": [
        "### Solution using `QAOA`\n",
        "\n",
        "We also show here a result using the Quantum Approximate Optimization Algorithm (`QAOA`). This is another variational algorithm and it uses an internal variational form that is created based on the problem."
      ]
    },
    {
      "cell_type": "code",
      "execution_count": null,
      "metadata": {
        "ExecuteTime": {
          "end_time": "2020-07-13T20:35:28.570970Z",
          "start_time": "2020-07-13T20:35:26.539093Z"
        },
        "id": "0lQDhTNN1Eap",
        "colab": {
          "base_uri": "https://localhost:8080/"
        },
        "outputId": "7254b2eb-95c2-4db8-ac3a-cf4e824c8031"
      },
      "outputs": [
        {
          "output_type": "stream",
          "name": "stdout",
          "text": [
            "[1. 0. 1. 0. 0. 1. 1. 0.]\n"
          ]
        },
        {
          "output_type": "execute_result",
          "data": {
            "text/plain": [
              "<MinimumEigenOptimizationResult: fval=-0.002925098242321093, x_0=1.0, x_1=0.0, x_2=1.0, x_3=0.0, x_4=0.0, x_5=1.0, x_6=1.0, x_7=0.0, status=SUCCESS>"
            ]
          },
          "metadata": {},
          "execution_count": 10
        }
      ],
      "source": [
        "## running QAOA Algo\n",
        "\n",
        "algorithm_globals.random_seed = 1234\n",
        "\n",
        "cobyla = COBYLA()\n",
        "cobyla.set_options(maxiter=250)\n",
        "qaoa_mes = QAOA(sampler=Sampler(), optimizer=cobyla, reps=3)\n",
        "qaoa = MinimumEigenOptimizer(qaoa_mes)\n",
        "qaoa_result = qaoa.solve(qp)\n",
        "print(qaoa_result.x) ## this is a binary output, 1 means that stock is selected, and 0 is otherwise.\n",
        "qaoa_result\n"
      ]
    },
    {
      "cell_type": "code",
      "execution_count": null,
      "metadata": {
        "ExecuteTime": {
          "end_time": "2020-07-13T20:35:29.079589Z",
          "start_time": "2020-07-13T20:35:28.573543Z"
        },
        "id": "OtQxPBnR1Eap"
      },
      "outputs": [],
      "source": []
    },
    {
      "cell_type": "markdown",
      "source": [
        "## Dwave code"
      ],
      "metadata": {
        "id": "pB8qGwK5fe_f"
      }
    },
    {
      "cell_type": "code",
      "execution_count": null,
      "metadata": {
        "id": "5LkfHTaX1Eap"
      },
      "outputs": [],
      "source": [
        "from qiskit_optimization.converters import QuadraticProgramToQubo\n",
        "from dwave.system import DWaveSampler, EmbeddingComposite\n",
        "import dimod"
      ]
    },
    {
      "cell_type": "markdown",
      "source": [],
      "metadata": {
        "id": "HVEsK1KF3Bcs"
      }
    },
    {
      "cell_type": "code",
      "source": [
        "qp2qubo = QuadraticProgramToQubo()  ## converting qp to qubo, qubo is a matrix which has to be passed to the dwave function as an input\n",
        "qubo = qp2qubo.convert(qp) ## returns qubo matrix\n",
        "\n",
        "assets_used = assets\n",
        "\n",
        "sampler_dw = DWaveSampler(solver='Advantage_system4.1', token = 'DEV-3092b857364ac14474b6cca827ed602eda60252d')  ## calling Adv. System 4.1 dwave machine as a solver\n",
        "sampler_qa = EmbeddingComposite(sampler_dw)\n",
        "\n",
        "bqm_qubo = dimod.as_bqm(qubo.objective.linear.to_array(), qubo.objective.quadratic.to_array(), dimod.BINARY) ## convrts qubo compatible for binary quadratic model\n",
        "\n",
        "embedded_sampler = EmbeddingComposite(sampler_dw)\n",
        "result_using_dwave = embedded_sampler.sample(bqm_qubo, label=\"example_qp\", num_reads=5000)\n",
        "# print(result_using_dwave)\n",
        "\n",
        "opt_output_dwave = result_using_dwave.first.sample.values() ## gives the best output, which has minimum energy. its idea is overall same as VQE in terms of energy optimization.\n",
        "opt_output_dwave = list(opt_output_dwave)\n",
        "print(opt_output_dwave)\n",
        "output_dict = dict(zip(assets_used, opt_output_dwave))\n",
        "print(output_dict)"
      ],
      "metadata": {
        "id": "A5JbeUoS3B66",
        "colab": {
          "base_uri": "https://localhost:8080/"
        },
        "outputId": "76508682-a5a4-4123-e8a8-75ba1fb6dc7d"
      },
      "execution_count": null,
      "outputs": [
        {
          "output_type": "stream",
          "name": "stdout",
          "text": [
            "[1, 0, 1, 0, 0, 1, 1, 0]\n",
            "{'JPM': 1, 'GS': 0, 'MSFT': 1, 'AAPL': 0, 'KO': 0, 'WMT': 1, 'MCD': 1, 'NKE': 0}\n"
          ]
        }
      ]
    },
    {
      "cell_type": "markdown",
      "source": [],
      "metadata": {
        "id": "st_5nYzt37uF"
      }
    },
    {
      "cell_type": "markdown",
      "source": [
        "## Weights allocation"
      ],
      "metadata": {
        "id": "oEwmmTqPgPru"
      }
    },
    {
      "cell_type": "code",
      "source": [
        "## weights allocation process is done on the classical computer.\n",
        "## passing the assets which has been selected by the quantum computer at assets selection part.\n",
        "\n",
        "selected_assets = opt_output_dwave   # [0, 0, 1, 1, 0, 0, 1, 1]\n",
        "assets = [\"JPM\", \"GS\", \"MSFT\", \"AAPL\", \"KO\", \"WMT\", \"MCD\", \"NKE\"]\n",
        "\n",
        "selected_bitstring = [i for i, e in enumerate(selected_assets) if e == 1]\n",
        "# print(selected_bitstring)\n",
        "my_assets = [assets[i] for i in selected_bitstring]\n",
        "print(\"your lucky assets are \",my_assets)"
      ],
      "metadata": {
        "id": "OPSl8sgU38AM",
        "colab": {
          "base_uri": "https://localhost:8080/"
        },
        "outputId": "7e9cdbb9-154e-41c7-b417-f0a1f2ed08c5"
      },
      "execution_count": null,
      "outputs": [
        {
          "output_type": "stream",
          "name": "stdout",
          "text": [
            "your lucky assets are  ['JPM', 'MSFT', 'WMT', 'MCD']\n"
          ]
        }
      ]
    },
    {
      "cell_type": "code",
      "source": [
        "selected_stocks_data = stocks_data[my_assets]"
      ],
      "metadata": {
        "id": "KR_-6qUB5Dh-"
      },
      "execution_count": null,
      "outputs": []
    },
    {
      "cell_type": "code",
      "source": [
        "log_return = np.log(selected_stocks_data/selected_stocks_data.shift(1))  ## log returns of the selected stocks\n",
        "log_return.head()"
      ],
      "metadata": {
        "id": "L78mQS3_4ILs",
        "colab": {
          "base_uri": "https://localhost:8080/",
          "height": 238
        },
        "outputId": "ff0ff175-7596-4607-b1a7-b647fab74c8b"
      },
      "execution_count": null,
      "outputs": [
        {
          "output_type": "execute_result",
          "data": {
            "text/plain": [
              "                 JPM      MSFT       WMT       MCD\n",
              "Date                                              \n",
              "2012-01-03       NaN       NaN       NaN       NaN\n",
              "2012-01-04  0.006315  0.023261 -0.010330  0.005549\n",
              "2012-01-05  0.020672  0.010167 -0.004869  0.004417\n",
              "2012-01-06 -0.009009  0.015415 -0.007093  0.007684\n",
              "2012-01-09 -0.001698 -0.013250  0.003046 -0.009588"
            ],
            "text/html": [
              "\n",
              "  <div id=\"df-a21605c6-4af1-48d9-8846-76e3d640e662\" class=\"colab-df-container\">\n",
              "    <div>\n",
              "<style scoped>\n",
              "    .dataframe tbody tr th:only-of-type {\n",
              "        vertical-align: middle;\n",
              "    }\n",
              "\n",
              "    .dataframe tbody tr th {\n",
              "        vertical-align: top;\n",
              "    }\n",
              "\n",
              "    .dataframe thead th {\n",
              "        text-align: right;\n",
              "    }\n",
              "</style>\n",
              "<table border=\"1\" class=\"dataframe\">\n",
              "  <thead>\n",
              "    <tr style=\"text-align: right;\">\n",
              "      <th></th>\n",
              "      <th>JPM</th>\n",
              "      <th>MSFT</th>\n",
              "      <th>WMT</th>\n",
              "      <th>MCD</th>\n",
              "    </tr>\n",
              "    <tr>\n",
              "      <th>Date</th>\n",
              "      <th></th>\n",
              "      <th></th>\n",
              "      <th></th>\n",
              "      <th></th>\n",
              "    </tr>\n",
              "  </thead>\n",
              "  <tbody>\n",
              "    <tr>\n",
              "      <th>2012-01-03</th>\n",
              "      <td>NaN</td>\n",
              "      <td>NaN</td>\n",
              "      <td>NaN</td>\n",
              "      <td>NaN</td>\n",
              "    </tr>\n",
              "    <tr>\n",
              "      <th>2012-01-04</th>\n",
              "      <td>0.006315</td>\n",
              "      <td>0.023261</td>\n",
              "      <td>-0.010330</td>\n",
              "      <td>0.005549</td>\n",
              "    </tr>\n",
              "    <tr>\n",
              "      <th>2012-01-05</th>\n",
              "      <td>0.020672</td>\n",
              "      <td>0.010167</td>\n",
              "      <td>-0.004869</td>\n",
              "      <td>0.004417</td>\n",
              "    </tr>\n",
              "    <tr>\n",
              "      <th>2012-01-06</th>\n",
              "      <td>-0.009009</td>\n",
              "      <td>0.015415</td>\n",
              "      <td>-0.007093</td>\n",
              "      <td>0.007684</td>\n",
              "    </tr>\n",
              "    <tr>\n",
              "      <th>2012-01-09</th>\n",
              "      <td>-0.001698</td>\n",
              "      <td>-0.013250</td>\n",
              "      <td>0.003046</td>\n",
              "      <td>-0.009588</td>\n",
              "    </tr>\n",
              "  </tbody>\n",
              "</table>\n",
              "</div>\n",
              "    <div class=\"colab-df-buttons\">\n",
              "\n",
              "  <div class=\"colab-df-container\">\n",
              "    <button class=\"colab-df-convert\" onclick=\"convertToInteractive('df-a21605c6-4af1-48d9-8846-76e3d640e662')\"\n",
              "            title=\"Convert this dataframe to an interactive table.\"\n",
              "            style=\"display:none;\">\n",
              "\n",
              "  <svg xmlns=\"http://www.w3.org/2000/svg\" height=\"24px\" viewBox=\"0 -960 960 960\">\n",
              "    <path d=\"M120-120v-720h720v720H120Zm60-500h600v-160H180v160Zm220 220h160v-160H400v160Zm0 220h160v-160H400v160ZM180-400h160v-160H180v160Zm440 0h160v-160H620v160ZM180-180h160v-160H180v160Zm440 0h160v-160H620v160Z\"/>\n",
              "  </svg>\n",
              "    </button>\n",
              "\n",
              "  <style>\n",
              "    .colab-df-container {\n",
              "      display:flex;\n",
              "      gap: 12px;\n",
              "    }\n",
              "\n",
              "    .colab-df-convert {\n",
              "      background-color: #E8F0FE;\n",
              "      border: none;\n",
              "      border-radius: 50%;\n",
              "      cursor: pointer;\n",
              "      display: none;\n",
              "      fill: #1967D2;\n",
              "      height: 32px;\n",
              "      padding: 0 0 0 0;\n",
              "      width: 32px;\n",
              "    }\n",
              "\n",
              "    .colab-df-convert:hover {\n",
              "      background-color: #E2EBFA;\n",
              "      box-shadow: 0px 1px 2px rgba(60, 64, 67, 0.3), 0px 1px 3px 1px rgba(60, 64, 67, 0.15);\n",
              "      fill: #174EA6;\n",
              "    }\n",
              "\n",
              "    .colab-df-buttons div {\n",
              "      margin-bottom: 4px;\n",
              "    }\n",
              "\n",
              "    [theme=dark] .colab-df-convert {\n",
              "      background-color: #3B4455;\n",
              "      fill: #D2E3FC;\n",
              "    }\n",
              "\n",
              "    [theme=dark] .colab-df-convert:hover {\n",
              "      background-color: #434B5C;\n",
              "      box-shadow: 0px 1px 3px 1px rgba(0, 0, 0, 0.15);\n",
              "      filter: drop-shadow(0px 1px 2px rgba(0, 0, 0, 0.3));\n",
              "      fill: #FFFFFF;\n",
              "    }\n",
              "  </style>\n",
              "\n",
              "    <script>\n",
              "      const buttonEl =\n",
              "        document.querySelector('#df-a21605c6-4af1-48d9-8846-76e3d640e662 button.colab-df-convert');\n",
              "      buttonEl.style.display =\n",
              "        google.colab.kernel.accessAllowed ? 'block' : 'none';\n",
              "\n",
              "      async function convertToInteractive(key) {\n",
              "        const element = document.querySelector('#df-a21605c6-4af1-48d9-8846-76e3d640e662');\n",
              "        const dataTable =\n",
              "          await google.colab.kernel.invokeFunction('convertToInteractive',\n",
              "                                                    [key], {});\n",
              "        if (!dataTable) return;\n",
              "\n",
              "        const docLinkHtml = 'Like what you see? Visit the ' +\n",
              "          '<a target=\"_blank\" href=https://colab.research.google.com/notebooks/data_table.ipynb>data table notebook</a>'\n",
              "          + ' to learn more about interactive tables.';\n",
              "        element.innerHTML = '';\n",
              "        dataTable['output_type'] = 'display_data';\n",
              "        await google.colab.output.renderOutput(dataTable, element);\n",
              "        const docLink = document.createElement('div');\n",
              "        docLink.innerHTML = docLinkHtml;\n",
              "        element.appendChild(docLink);\n",
              "      }\n",
              "    </script>\n",
              "  </div>\n",
              "\n",
              "\n",
              "<div id=\"df-49b93574-8e83-4829-8845-d882de74e2f2\">\n",
              "  <button class=\"colab-df-quickchart\" onclick=\"quickchart('df-49b93574-8e83-4829-8845-d882de74e2f2')\"\n",
              "            title=\"Suggest charts\"\n",
              "            style=\"display:none;\">\n",
              "\n",
              "<svg xmlns=\"http://www.w3.org/2000/svg\" height=\"24px\"viewBox=\"0 0 24 24\"\n",
              "     width=\"24px\">\n",
              "    <g>\n",
              "        <path d=\"M19 3H5c-1.1 0-2 .9-2 2v14c0 1.1.9 2 2 2h14c1.1 0 2-.9 2-2V5c0-1.1-.9-2-2-2zM9 17H7v-7h2v7zm4 0h-2V7h2v10zm4 0h-2v-4h2v4z\"/>\n",
              "    </g>\n",
              "</svg>\n",
              "  </button>\n",
              "\n",
              "<style>\n",
              "  .colab-df-quickchart {\n",
              "      --bg-color: #E8F0FE;\n",
              "      --fill-color: #1967D2;\n",
              "      --hover-bg-color: #E2EBFA;\n",
              "      --hover-fill-color: #174EA6;\n",
              "      --disabled-fill-color: #AAA;\n",
              "      --disabled-bg-color: #DDD;\n",
              "  }\n",
              "\n",
              "  [theme=dark] .colab-df-quickchart {\n",
              "      --bg-color: #3B4455;\n",
              "      --fill-color: #D2E3FC;\n",
              "      --hover-bg-color: #434B5C;\n",
              "      --hover-fill-color: #FFFFFF;\n",
              "      --disabled-bg-color: #3B4455;\n",
              "      --disabled-fill-color: #666;\n",
              "  }\n",
              "\n",
              "  .colab-df-quickchart {\n",
              "    background-color: var(--bg-color);\n",
              "    border: none;\n",
              "    border-radius: 50%;\n",
              "    cursor: pointer;\n",
              "    display: none;\n",
              "    fill: var(--fill-color);\n",
              "    height: 32px;\n",
              "    padding: 0;\n",
              "    width: 32px;\n",
              "  }\n",
              "\n",
              "  .colab-df-quickchart:hover {\n",
              "    background-color: var(--hover-bg-color);\n",
              "    box-shadow: 0 1px 2px rgba(60, 64, 67, 0.3), 0 1px 3px 1px rgba(60, 64, 67, 0.15);\n",
              "    fill: var(--button-hover-fill-color);\n",
              "  }\n",
              "\n",
              "  .colab-df-quickchart-complete:disabled,\n",
              "  .colab-df-quickchart-complete:disabled:hover {\n",
              "    background-color: var(--disabled-bg-color);\n",
              "    fill: var(--disabled-fill-color);\n",
              "    box-shadow: none;\n",
              "  }\n",
              "\n",
              "  .colab-df-spinner {\n",
              "    border: 2px solid var(--fill-color);\n",
              "    border-color: transparent;\n",
              "    border-bottom-color: var(--fill-color);\n",
              "    animation:\n",
              "      spin 1s steps(1) infinite;\n",
              "  }\n",
              "\n",
              "  @keyframes spin {\n",
              "    0% {\n",
              "      border-color: transparent;\n",
              "      border-bottom-color: var(--fill-color);\n",
              "      border-left-color: var(--fill-color);\n",
              "    }\n",
              "    20% {\n",
              "      border-color: transparent;\n",
              "      border-left-color: var(--fill-color);\n",
              "      border-top-color: var(--fill-color);\n",
              "    }\n",
              "    30% {\n",
              "      border-color: transparent;\n",
              "      border-left-color: var(--fill-color);\n",
              "      border-top-color: var(--fill-color);\n",
              "      border-right-color: var(--fill-color);\n",
              "    }\n",
              "    40% {\n",
              "      border-color: transparent;\n",
              "      border-right-color: var(--fill-color);\n",
              "      border-top-color: var(--fill-color);\n",
              "    }\n",
              "    60% {\n",
              "      border-color: transparent;\n",
              "      border-right-color: var(--fill-color);\n",
              "    }\n",
              "    80% {\n",
              "      border-color: transparent;\n",
              "      border-right-color: var(--fill-color);\n",
              "      border-bottom-color: var(--fill-color);\n",
              "    }\n",
              "    90% {\n",
              "      border-color: transparent;\n",
              "      border-bottom-color: var(--fill-color);\n",
              "    }\n",
              "  }\n",
              "</style>\n",
              "\n",
              "  <script>\n",
              "    async function quickchart(key) {\n",
              "      const quickchartButtonEl =\n",
              "        document.querySelector('#' + key + ' button');\n",
              "      quickchartButtonEl.disabled = true;  // To prevent multiple clicks.\n",
              "      quickchartButtonEl.classList.add('colab-df-spinner');\n",
              "      try {\n",
              "        const charts = await google.colab.kernel.invokeFunction(\n",
              "            'suggestCharts', [key], {});\n",
              "      } catch (error) {\n",
              "        console.error('Error during call to suggestCharts:', error);\n",
              "      }\n",
              "      quickchartButtonEl.classList.remove('colab-df-spinner');\n",
              "      quickchartButtonEl.classList.add('colab-df-quickchart-complete');\n",
              "    }\n",
              "    (() => {\n",
              "      let quickchartButtonEl =\n",
              "        document.querySelector('#df-49b93574-8e83-4829-8845-d882de74e2f2 button');\n",
              "      quickchartButtonEl.style.display =\n",
              "        google.colab.kernel.accessAllowed ? 'block' : 'none';\n",
              "    })();\n",
              "  </script>\n",
              "</div>\n",
              "\n",
              "    </div>\n",
              "  </div>\n"
            ]
          },
          "metadata": {},
          "execution_count": 18
        }
      ]
    },
    {
      "cell_type": "code",
      "source": [
        "# to start with some random input, we have initialized an array of weights which sums to 1.\n",
        "\n",
        "import numpy as np\n",
        "weights = np.array(np.random.random(len(my_assets)))\n",
        "\n",
        "print('normalised weights :')\n",
        "weights = weights/np.sum(weights)\n",
        "print(weights)"
      ],
      "metadata": {
        "id": "1Ggll7-R4NwR",
        "colab": {
          "base_uri": "https://localhost:8080/"
        },
        "outputId": "1dc23405-8651-4eb0-abb9-83d277586cd0"
      },
      "execution_count": null,
      "outputs": [
        {
          "output_type": "stream",
          "name": "stdout",
          "text": [
            "normalised weights :\n",
            "[0.35987168 0.01452553 0.43044343 0.19515936]\n"
          ]
        }
      ]
    },
    {
      "cell_type": "code",
      "source": [
        "## formulating the objective function for weights allocation\n",
        "\n",
        "from scipy.optimize import minimize\n",
        "\n",
        "def get_ret_vol_sr(weights):\n",
        "    weights = np.array(weights)\n",
        "    ret = np.sum(log_return.mean() * weights) * 252\n",
        "    vol = np.sqrt(np.dot(weights.T,np.dot(log_return.cov()*252,weights)))\n",
        "    sr = ret/vol\n",
        "    return np.array(sr)\n",
        "\n",
        "# minimize negative Sharpe Ratio\n",
        "def neg_sharpe(weights):\n",
        "    return get_ret_vol_sr(weights)*-1\n",
        "\n",
        "# check allocation sums to 1\n",
        "def check_sum(weights):\n",
        "    return np.sum(weights) - 1"
      ],
      "metadata": {
        "id": "UImK4x4x4Q6H"
      },
      "execution_count": null,
      "outputs": []
    },
    {
      "cell_type": "code",
      "source": [
        "# create constraint variable\n",
        "cons = ({'type':'eq','fun':check_sum}) ## constraints which adds satisfiability of sum should be 1 exactly. this is an equality constraint."
      ],
      "metadata": {
        "id": "Kh0wM1cz4XXT"
      },
      "execution_count": null,
      "outputs": []
    },
    {
      "cell_type": "code",
      "source": [
        "# create constraint variable\n",
        "cons = ({'type':'eq','fun':check_sum})\n",
        "\n",
        "# create weight boundaries\n",
        "bounds = tuple((0, 1) for stocks in range(len(my_assets))) ## bound consition, which doesn't allows weights to be less than 0 or greater than 1."
      ],
      "metadata": {
        "id": "L1f45_4V4cSx"
      },
      "execution_count": null,
      "outputs": []
    },
    {
      "cell_type": "code",
      "source": [
        "# initial guess\n",
        "# init_guess = [0.1 for stocks in range(len(my_assets))]\n",
        "init_guess = [0.3, 0.4, 0.2, 0.1]\n",
        "# tuple((0, 1) for stocks in range(len(my_assets)))"
      ],
      "metadata": {
        "id": "MaDWPFeA4gPk"
      },
      "execution_count": null,
      "outputs": []
    },
    {
      "cell_type": "code",
      "source": [
        "# from scipy.optimize import minimize\n",
        "opt_results = minimize(neg_sharpe, init_guess, method='SLSQP', bounds=bounds, constraints=cons)  ## scipy method for optiomization. SLSQP solver is used to solve quadratic programming problem.\n",
        "opt_results"
      ],
      "metadata": {
        "id": "mEkuOKfH4jn5",
        "colab": {
          "base_uri": "https://localhost:8080/"
        },
        "outputId": "38c867bb-9452-4b7f-ed08-c04c9799db46"
      },
      "execution_count": null,
      "outputs": [
        {
          "output_type": "execute_result",
          "data": {
            "text/plain": [
              " message: Optimization terminated successfully\n",
              " success: True\n",
              "  status: 0\n",
              "     fun: -1.1158304956018665\n",
              "       x: [ 1.062e-01  6.169e-01  1.647e-01  1.122e-01]\n",
              "     nit: 4\n",
              "     jac: [ 9.324e-05 -1.156e-05  1.692e-04 -2.730e-04]\n",
              "    nfev: 20\n",
              "    njev: 4"
            ]
          },
          "metadata": {},
          "execution_count": 24
        }
      ]
    },
    {
      "cell_type": "code",
      "source": [
        "my_weights = np.array(opt_results.x)\n",
        "my_weights = my_weights.tolist()"
      ],
      "metadata": {
        "id": "UzueBtPy4mdr"
      },
      "execution_count": null,
      "outputs": []
    },
    {
      "cell_type": "code",
      "source": [
        "tot_weights = np.sum(my_weights) ## checking if the weights we got satisfy the sum should be equal to 1 condition.\n",
        "tot_weights"
      ],
      "metadata": {
        "id": "taPl4x3N4o5K",
        "colab": {
          "base_uri": "https://localhost:8080/"
        },
        "outputId": "798707c5-2b0b-4ba4-f69e-fbc52b201053"
      },
      "execution_count": null,
      "outputs": [
        {
          "output_type": "execute_result",
          "data": {
            "text/plain": [
              "1.0"
            ]
          },
          "metadata": {},
          "execution_count": 26
        }
      ]
    },
    {
      "cell_type": "code",
      "source": [
        "weights_alloc = dict(zip(my_assets, my_weights)) ## weights dictionary for each asset.\n",
        "weights_alloc"
      ],
      "metadata": {
        "id": "E37akuTf4sI_",
        "colab": {
          "base_uri": "https://localhost:8080/"
        },
        "outputId": "be9f2624-04fa-4a83-cc12-071c3bc66321"
      },
      "execution_count": null,
      "outputs": [
        {
          "output_type": "execute_result",
          "data": {
            "text/plain": [
              "{'JPM': 0.10618902512566182,\n",
              " 'MSFT': 0.6169241753025179,\n",
              " 'WMT': 0.16473049236847498,\n",
              " 'MCD': 0.11215630720334543}"
            ]
          },
          "metadata": {},
          "execution_count": 27
        }
      ]
    },
    {
      "cell_type": "code",
      "source": [
        "# formula to calculate sharpe ratio, returns and risk of a portfolio based on on\n",
        "\n",
        "ret = np.sum(log_return.mean() * my_weights) * 252 # returns of a portfolio after optimum weight allocation\n",
        " sharpe_ratio = ret/vol # sharpe ratio of a portfolio after optimum weight allocation\n",
        "print(\"sharpe ratio of your porrtfolio after optimization is \", sharpe_ratio)\n",
        "\n",
        "risk_ret_dict_of_quantum = {\n",
        "    'returns' : ret*100,\n",
        "    'risk' : vol*100,\n",
        "    'sharpe_ratio' : sharpe_ratio\n",
        "}"
      ],
      "metadata": {
        "id": "jnRU1qsm4vlB",
        "colab": {
          "base_uri": "https://localhost:8080/"
        },
        "outputId": "d3e8d676-f223-4b3f-fdf7-1093a7c370ee"
      },
      "execution_count": null,
      "outputs": [
        {
          "output_type": "stream",
          "name": "stdout",
          "text": [
            "sharpe ratio of your porrtfolio after optimization is  1.3968138358235755\n"
          ]
        }
      ]
    },
    {
      "cell_type": "code",
      "source": [
        "risk_ret_dict_of_quantum"
      ],
      "metadata": {
        "id": "sDcVp2IX4zUE",
        "colab": {
          "base_uri": "https://localhost:8080/"
        },
        "outputId": "495fc690-4222-49c1-9097-6eda5e400b92"
      },
      "execution_count": null,
      "outputs": [
        {
          "output_type": "execute_result",
          "data": {
            "text/plain": [
              "{'returns': 22.10705634098746,\n",
              " 'risk': 15.826773600043067,\n",
              " 'sharpe_ratio': 1.3968138358235755}"
            ]
          },
          "metadata": {},
          "execution_count": 29
        }
      ]
    },
    {
      "cell_type": "code",
      "source": [],
      "metadata": {
        "id": "vKPzozwy8tvX"
      },
      "execution_count": null,
      "outputs": []
    }
  ],
  "metadata": {
    "celltoolbar": "Tags",
    "kernelspec": {
      "display_name": "Python 3",
      "language": "python",
      "name": "python3"
    },
    "language_info": {
      "codemirror_mode": {
        "name": "ipython",
        "version": 3
      },
      "file_extension": ".py",
      "mimetype": "text/x-python",
      "name": "python",
      "nbconvert_exporter": "python",
      "pygments_lexer": "ipython3",
      "version": "3.9.7"
    },
    "varInspector": {
      "cols": {
        "lenName": 16,
        "lenType": 16,
        "lenVar": 40
      },
      "kernels_config": {
        "python": {
          "delete_cmd_postfix": "",
          "delete_cmd_prefix": "del ",
          "library": "var_list.py",
          "varRefreshCmd": "print(var_dic_list())"
        },
        "r": {
          "delete_cmd_postfix": ") ",
          "delete_cmd_prefix": "rm(",
          "library": "var_list.r",
          "varRefreshCmd": "cat(var_dic_list()) "
        }
      },
      "types_to_exclude": [
        "module",
        "function",
        "builtin_function_or_method",
        "instance",
        "_Feature"
      ],
      "window_display": false
    },
    "vscode": {
      "interpreter": {
        "hash": "e3b168dd14084693aa742087410f9921d6040e41eb6bdb17b20e4003862f82dd"
      }
    },
    "colab": {
      "provenance": []
    }
  },
  "nbformat": 4,
  "nbformat_minor": 0
}